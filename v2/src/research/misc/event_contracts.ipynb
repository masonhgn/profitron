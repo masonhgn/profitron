{
 "cells": [
  {
   "cell_type": "markdown",
   "id": "12a7d27d",
   "metadata": {},
   "source": [
    "Here we will explore IBKR event driven contracts. Specifically, I'm interested in trading the spread between a cryptocurrency event contract and other instruments that provide that exposure.\n",
    "\n",
    "\n",
    "An easier wrapper for ikr api:\n",
    "https://github.com/ib-api-reloaded/ib_async\n",
    "\n"
   ]
  }
 ],
 "metadata": {
  "language_info": {
   "name": "python"
  }
 },
 "nbformat": 4,
 "nbformat_minor": 5
}
